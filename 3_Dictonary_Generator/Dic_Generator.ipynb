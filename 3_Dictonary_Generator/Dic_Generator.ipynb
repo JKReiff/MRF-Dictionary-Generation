{
 "cells": [
  {
   "cell_type": "code",
   "execution_count": 1,
   "metadata": {},
   "outputs": [
    {
     "name": "stderr",
     "output_type": "stream",
     "text": [
      "WARNING:absl:At this time, the v2.11+ optimizer `tf.keras.optimizers.RestoredOptimizer` runs slowly on M1/M2 Macs, please use the legacy Keras optimizer instead, located at `tf.keras.optimizers.legacy.RestoredOptimizer`.\n",
      "WARNING:absl:At this time, the v2.11+ optimizer `tf.keras.optimizers.Adam` runs slowly on M1/M2 Macs, please use the legacy Keras optimizer instead, located at `tf.keras.optimizers.legacy.Adam`.\n"
     ]
    },
    {
     "name": "stdout",
     "output_type": "stream",
     "text": [
      "434/434 [==============================] - 3s 6ms/step\n",
      "Execution Time: 8.40018105506897 seconds\n"
     ]
    }
   ],
   "source": [
    "import time\n",
    "start_time = time.time()\n",
    "\n",
    "import numpy as np\n",
    "from keras.models import load_model\n",
    "import os\n",
    "import scipy.io\n",
    "\n",
    "\n",
    "def load_scaling_factors(file_path):\n",
    "    return np.loadtxt(file_path, delimiter=',', skiprows=1)\n",
    "\n",
    "def generate_ranges(ranges):\n",
    "    return np.unique(np.concatenate([np.arange(start, stop + step, step) for start, stop, step in ranges]))\n",
    "\n",
    "def normalize(data, min_val, max_val):\n",
    "    return (data - min_val) / (max_val - min_val)\n",
    "\n",
    "def denormalize(data, min_val, max_val):\n",
    "    return data * (max_val - min_val) + min_val\n",
    "\n",
    "\n",
    "# File paths and model loading\n",
    "path = \"/Users/janreifferscheidt/Documents/Training/\"\n",
    "model = load_model(\"GRU_Full_01-28_LR_1E-03_BS_8_att_pp\")\n",
    "\n",
    "\n",
    "# RR_Intervals and ranges\n",
    "RR_Intervals = [\n",
    "    1010.30000000261, 1005.24999999441, 989.800000004470, 990.149999996647,\n",
    "    1020.10000000708, 984.899999992922, 999.800000004470, 1005.04999999888,\n",
    "    1005.14999999665, 1004.90000000224, 1035.09999999776, 1030,\n",
    "    989.900000002235, 989.599999999628\n",
    "]\n",
    "t1_ranges = [(50, 500, 50), (500, 1000, 5), (1000, 1500, 50), (1500, 2000, 100)]\n",
    "t2_ranges = [(4, 80, 1), (80, 200, 5), (200, 400, 20)]\n",
    "\n",
    "\n",
    "\n",
    "# Load scaling factors\n",
    "params_file_path = os.path.join(path, 'train', 'Scaling_Factors_Params.txt')\n",
    "finger_file_path = os.path.join(path, 'train', 'Scaling_Factors_Finger.txt')\n",
    "\n",
    "scaling_factors_finger = load_scaling_factors(finger_file_path)\n",
    "realMin, realMax, imagMin, imagMax = scaling_factors_finger\n",
    "scaling_factors_params = load_scaling_factors(params_file_path)\n",
    "min_vals_t, max_vals_t, min_vals_rr, max_vals_rr = scaling_factors_params\n",
    "\n",
    "\n",
    "# Generate T1 and T2 arrays and combinations\n",
    "T1 = generate_ranges(t1_ranges)\n",
    "T2 = generate_ranges(t2_ranges)\n",
    "combinations_matrix = np.array([[t1, t2] for t2 in T2 for t1 in T1]) #if t1 >= t2\n",
    "\n",
    "# Prepare ParamsMatrix\n",
    "ParamsMatrix = np.hstack([combinations_matrix, np.zeros((combinations_matrix.shape[0], 14))])\n",
    "ParamsMatrix[:, 2:] = RR_Intervals\n",
    "\n",
    "# Normalize for GRU\n",
    "t_times = ParamsMatrix[:, 0:2]\n",
    "rr_times = ParamsMatrix[:, 2:]\n",
    "scaled_data_t = normalize(t_times, min_vals_t, max_vals_t)\n",
    "scaled_data_rr = normalize(rr_times, min_vals_rr, max_vals_rr)\n",
    "normalized_ParamsMatrix = np.hstack((scaled_data_t, scaled_data_rr))\n",
    "\n",
    "# Model prediction\n",
    "Dic_gen = model.predict(normalized_ParamsMatrix)\n",
    "\n",
    "# Denormalize\n",
    "real_part = denormalize(Dic_gen[:, :Dic_gen.shape[1] // 2], realMin, realMax).astype(np.float64)\n",
    "imaginary_part = denormalize(Dic_gen[:, Dic_gen.shape[1] // 2:], imagMin, imagMax).astype(np.float64)\n",
    "Dic = real_part + 1j * imaginary_part\n",
    "\n",
    "#turning Unphysical parameter to 0\n",
    "indices = np.where(ParamsMatrix[:, 1] > ParamsMatrix[:, 0])[0]\n",
    "Dic[indices, :] = 0 + 0j\n",
    "\n",
    "# Save to .mat file\n",
    "matfile_data = {'GenDict': {'dictOn': Dic, 'Combinations': ParamsMatrix}}\n",
    "\n",
    "scipy.io.savemat('GenDict_NN.mat', matfile_data)\n",
    "\n",
    "# Calculate execution time\n",
    "execution_time = time.time() - start_time\n",
    "print(f\"Execution Time: {execution_time} seconds\")\n",
    "\n"
   ]
  }
 ],
 "metadata": {
  "kernelspec": {
   "display_name": "hamilton_nn",
   "language": "python",
   "name": "python3"
  },
  "language_info": {
   "codemirror_mode": {
    "name": "ipython",
    "version": 3
   },
   "file_extension": ".py",
   "mimetype": "text/x-python",
   "name": "python",
   "nbconvert_exporter": "python",
   "pygments_lexer": "ipython3",
   "version": "3.11.6"
  }
 },
 "nbformat": 4,
 "nbformat_minor": 2
}
